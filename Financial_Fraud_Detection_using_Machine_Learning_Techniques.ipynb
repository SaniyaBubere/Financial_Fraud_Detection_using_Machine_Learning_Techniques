{
  "cells": [
    {
      "cell_type": "markdown",
      "metadata": {
        "id": "view-in-github",
        "colab_type": "text"
      },
      "source": [
        "<a href=\"https://colab.research.google.com/github/SaniyaBubere/Financial_Fraud_Detection_using_Machine_Learning_Techniques/blob/main/Financial_Fraud_Detection_using_Machine_Learning_Techniques.ipynb\" target=\"_parent\"><img src=\"https://colab.research.google.com/assets/colab-badge.svg\" alt=\"Open In Colab\"/></a>"
      ]
    },
    {
      "cell_type": "markdown",
      "source": [
        "## Problem Statement"
      ],
      "metadata": {
        "id": "n0mw06RPUDS9"
      }
    },
    {
      "cell_type": "markdown",
      "source": [
        "\n",
        "The problem statement for this project is fraud detection in payment transactions using machine learning techniques. The goal is to develop a model that can accurately classify transactions as fraudulent or non-fraudulent based on the given dataset. The dataset consists of various features such as the transaction amount, account balance before and after the transaction, transaction type, and time step. The challenge is to deal with the highly imbalanced nature of the dataset, where only a small fraction of transactions are fraudulent. This requires the use of appropriate sampling techniques and model evaluation metrics to ensure that the model is effective in detecting fraud while minimizing false positives. The ultimate objective is to develop a model that can detect fraudulent transactions in real-time and prevent financial losses due to fraud."
      ],
      "metadata": {
        "id": "n9933EU1UHRc"
      }
    },
    {
      "cell_type": "markdown",
      "source": [
        "## Variable Description"
      ],
      "metadata": {
        "id": "sm_EwKatUJYL"
      }
    },
    {
      "cell_type": "markdown",
      "metadata": {
        "id": "8eYUQZMAVKW_"
      },
      "source": [
        "\n",
        "Variable Name: step\n",
        "\n",
        "Description: This variable represents a unit of time in the real world, where each step equals one hour of time.\n",
        "\n",
        "Variable Name: type\n",
        "\n",
        "Description: This variable indicates the type of transaction that was made. The types of transactions include CASH-IN, CASH-OUT, DEBIT, PAYMENT, or TRANSFER.\n",
        "\n",
        "Variable Name: amount\n",
        "\n",
        "Description: This variable represents the amount of the transaction made in the local currency.\n",
        "\n",
        "Variable Name: nameOrig\n",
        "\n",
        "Description: This variable represents the identifier of the customer who initiated the transaction.\n",
        "\n",
        "Variable Name: oldbalanceOrg\n",
        "\n",
        "Description: This variable represents the initial balance of the customer who initiated the transaction before the transaction took place.\n",
        "\n",
        "Variable Name: newbalanceOrig\n",
        "\n",
        "Description: This variable represents the balance of the customer who initiated the transaction after the transaction took place.\n",
        "\n",
        "Variable Name: nameDest\n",
        "\n",
        "Description: This variable represents the identifier of the recipient who received the transaction.\n",
        "\n",
        "Variable Name: oldbalanceDest\n",
        "\n",
        "Description: This variable represents the initial balance of the recipient before the transaction took place.\n",
        "\n",
        "Variable Name: newbalanceDest\n",
        "\n",
        "Description: This variable represents the balance of the recipient after the transaction took place.\n",
        "\n",
        "Variable Name: isFraud\n",
        "\n",
        "Description: This variable indicates whether the transaction was fraudulent or not. A value of 1 indicates that the transaction was fraudulent, while a value of 0 indicates that it was not."
      ]
    },
    {
      "cell_type": "markdown",
      "source": [
        "## Summary"
      ],
      "metadata": {
        "id": "uYVM-UqNcuvz"
      }
    },
    {
      "cell_type": "markdown",
      "source": [
        "In this project, we applied multiple supervised machine learning techniques to the problem of fraud detection using a publicly available simulated payment transactions data. Our aim was to demonstrate how supervised ML techniques can be used to classify data with high class imbalance with high accuracy.\n",
        "\n",
        "We started by exploring the data using various visualization techniques to gain insights into the patterns of fraudulent and non-fraudulent transactions. We found that fraudulent transactions were more uniformly spread out across time steps, while non-fraudulent transactions were more concentrated in specific time steps. Additionally, we found that the distribution of transaction amounts did not show any conclusive difference between fraudulent and non-fraudulent transactions.\n",
        "\n",
        "Next, we used multiple supervised learning algorithms like logistic regression, random forest, and XGBoost to classify the fraudulent and non-fraudulent transactions. We used evaluation metrics like accuracy, precision, recall, and F1-score to evaluate the performance of each algorithm. We also used techniques like hyperparameter tuning, cross-validation, and SMOTE to improve the performance of our models.\n",
        "\n",
        "Our results showed that tree-based algorithms like Random Forest performed better than logistic regression & XGBoost in detecting fraudulent transactions respectively. We also found that SMOTE improved the performance of the models, especially for the logistic regression algorithm.\n",
        "\n",
        " Overall, our study demonstrated that machine learning techniques can be used effectively to detect fraudulent transactions in large amounts of payment data with high accuracy."
      ],
      "metadata": {
        "id": "iyFsGtu7cx8f"
      }
    },
    {
      "cell_type": "markdown",
      "metadata": {
        "id": "P1eYDvWZq-vr"
      },
      "source": [
        "## Importing Libraries"
      ]
    },
    {
      "cell_type": "code",
      "execution_count": 1,
      "metadata": {
        "id": "USRozo6AJC50"
      },
      "outputs": [],
      "source": [
        "## Data Analysis Phase\n",
        "## MAin aim is to understand more about the data\n",
        "\n",
        "import pandas as pd\n",
        "import numpy as np\n",
        "import matplotlib.pyplot as plt\n",
        "%matplotlib inline\n",
        "import seaborn as sns\n",
        "## Display all the columns of the dataframe\n",
        "\n",
        "pd.pandas.set_option('display.max_columns',None)\n",
        "\n",
        "\n",
        "# importing missingo library which helps us to visualize the missing values\n",
        "import missingno as msno\n",
        "\n",
        "from sklearn.preprocessing import OneHotEncoder\n",
        "from sklearn.model_selection import train_test_split, cross_val_score\n",
        "from sklearn.preprocessing import MinMaxScaler, RobustScaler, StandardScaler \n",
        "from imblearn.over_sampling import SMOTE\n",
        "from collections import Counter\n",
        "from sklearn.metrics import accuracy_score, recall_score, precision_score, f1_score,roc_auc_score\n",
        "from collections import OrderedDict\n",
        "\n",
        "from sklearn.model_selection import RandomizedSearchCV,GridSearchCV\n",
        "from sklearn.ensemble import RandomForestClassifier\n",
        "from sklearn.linear_model import LogisticRegression\n",
        "from xgboost import XGBClassifier\n",
        "from sklearn.metrics import confusion_matrix"
      ]
    },
    {
      "cell_type": "code",
      "source": [
        "from google.colab import drive\n",
        "drive.mount('/content/drive')"
      ],
      "metadata": {
        "id": "jeFcu3nvSuhy"
      },
      "execution_count": null,
      "outputs": []
    },
    {
      "cell_type": "markdown",
      "metadata": {
        "id": "bXbJJkiorE9B"
      },
      "source": [
        "## Dataset Loading"
      ]
    },
    {
      "cell_type": "code",
      "execution_count": 2,
      "metadata": {
        "colab": {
          "base_uri": "https://localhost:8080/"
        },
        "id": "gt592P2kJFF9",
        "outputId": "1ba49ce0-e309-4292-ccbc-3e7099bc03cc"
      },
      "outputs": [
        {
          "output_type": "stream",
          "name": "stdout",
          "text": [
            "(6362620, 11)\n"
          ]
        }
      ],
      "source": [
        "dataset=pd.read_csv('/content/drive/MyDrive/Fraud.csv')\n",
        "\n",
        "## print shape of dataset with rows and columns\n",
        "print(dataset.shape)"
      ]
    },
    {
      "cell_type": "markdown",
      "metadata": {
        "id": "1bfmobasrJi9"
      },
      "source": [
        "## Dataset First Look"
      ]
    },
    {
      "cell_type": "code",
      "execution_count": 3,
      "metadata": {
        "colab": {
          "base_uri": "https://localhost:8080/",
          "height": 206
        },
        "id": "JqoIxgJTKnsD",
        "outputId": "7631373a-6ef7-47c1-8ab1-5bab9160b39a"
      },
      "outputs": [
        {
          "output_type": "execute_result",
          "data": {
            "text/plain": [
              "   step      type    amount     nameOrig  oldbalanceOrg  newbalanceOrig  \\\n",
              "0     1   PAYMENT   9839.64  C1231006815       170136.0       160296.36   \n",
              "1     1   PAYMENT   1864.28  C1666544295        21249.0        19384.72   \n",
              "2     1  TRANSFER    181.00  C1305486145          181.0            0.00   \n",
              "3     1  CASH_OUT    181.00   C840083671          181.0            0.00   \n",
              "4     1   PAYMENT  11668.14  C2048537720        41554.0        29885.86   \n",
              "\n",
              "      nameDest  oldbalanceDest  newbalanceDest  isFraud  isFlaggedFraud  \n",
              "0  M1979787155             0.0             0.0        0               0  \n",
              "1  M2044282225             0.0             0.0        0               0  \n",
              "2   C553264065             0.0             0.0        1               0  \n",
              "3    C38997010         21182.0             0.0        1               0  \n",
              "4  M1230701703             0.0             0.0        0               0  "
            ],
            "text/html": [
              "\n",
              "  <div id=\"df-2cd3b0de-2183-4189-8d0f-963a36cf3f53\">\n",
              "    <div class=\"colab-df-container\">\n",
              "      <div>\n",
              "<style scoped>\n",
              "    .dataframe tbody tr th:only-of-type {\n",
              "        vertical-align: middle;\n",
              "    }\n",
              "\n",
              "    .dataframe tbody tr th {\n",
              "        vertical-align: top;\n",
              "    }\n",
              "\n",
              "    .dataframe thead th {\n",
              "        text-align: right;\n",
              "    }\n",
              "</style>\n",
              "<table border=\"1\" class=\"dataframe\">\n",
              "  <thead>\n",
              "    <tr style=\"text-align: right;\">\n",
              "      <th></th>\n",
              "      <th>step</th>\n",
              "      <th>type</th>\n",
              "      <th>amount</th>\n",
              "      <th>nameOrig</th>\n",
              "      <th>oldbalanceOrg</th>\n",
              "      <th>newbalanceOrig</th>\n",
              "      <th>nameDest</th>\n",
              "      <th>oldbalanceDest</th>\n",
              "      <th>newbalanceDest</th>\n",
              "      <th>isFraud</th>\n",
              "      <th>isFlaggedFraud</th>\n",
              "    </tr>\n",
              "  </thead>\n",
              "  <tbody>\n",
              "    <tr>\n",
              "      <th>0</th>\n",
              "      <td>1</td>\n",
              "      <td>PAYMENT</td>\n",
              "      <td>9839.64</td>\n",
              "      <td>C1231006815</td>\n",
              "      <td>170136.0</td>\n",
              "      <td>160296.36</td>\n",
              "      <td>M1979787155</td>\n",
              "      <td>0.0</td>\n",
              "      <td>0.0</td>\n",
              "      <td>0</td>\n",
              "      <td>0</td>\n",
              "    </tr>\n",
              "    <tr>\n",
              "      <th>1</th>\n",
              "      <td>1</td>\n",
              "      <td>PAYMENT</td>\n",
              "      <td>1864.28</td>\n",
              "      <td>C1666544295</td>\n",
              "      <td>21249.0</td>\n",
              "      <td>19384.72</td>\n",
              "      <td>M2044282225</td>\n",
              "      <td>0.0</td>\n",
              "      <td>0.0</td>\n",
              "      <td>0</td>\n",
              "      <td>0</td>\n",
              "    </tr>\n",
              "    <tr>\n",
              "      <th>2</th>\n",
              "      <td>1</td>\n",
              "      <td>TRANSFER</td>\n",
              "      <td>181.00</td>\n",
              "      <td>C1305486145</td>\n",
              "      <td>181.0</td>\n",
              "      <td>0.00</td>\n",
              "      <td>C553264065</td>\n",
              "      <td>0.0</td>\n",
              "      <td>0.0</td>\n",
              "      <td>1</td>\n",
              "      <td>0</td>\n",
              "    </tr>\n",
              "    <tr>\n",
              "      <th>3</th>\n",
              "      <td>1</td>\n",
              "      <td>CASH_OUT</td>\n",
              "      <td>181.00</td>\n",
              "      <td>C840083671</td>\n",
              "      <td>181.0</td>\n",
              "      <td>0.00</td>\n",
              "      <td>C38997010</td>\n",
              "      <td>21182.0</td>\n",
              "      <td>0.0</td>\n",
              "      <td>1</td>\n",
              "      <td>0</td>\n",
              "    </tr>\n",
              "    <tr>\n",
              "      <th>4</th>\n",
              "      <td>1</td>\n",
              "      <td>PAYMENT</td>\n",
              "      <td>11668.14</td>\n",
              "      <td>C2048537720</td>\n",
              "      <td>41554.0</td>\n",
              "      <td>29885.86</td>\n",
              "      <td>M1230701703</td>\n",
              "      <td>0.0</td>\n",
              "      <td>0.0</td>\n",
              "      <td>0</td>\n",
              "      <td>0</td>\n",
              "    </tr>\n",
              "  </tbody>\n",
              "</table>\n",
              "</div>\n",
              "      <button class=\"colab-df-convert\" onclick=\"convertToInteractive('df-2cd3b0de-2183-4189-8d0f-963a36cf3f53')\"\n",
              "              title=\"Convert this dataframe to an interactive table.\"\n",
              "              style=\"display:none;\">\n",
              "        \n",
              "  <svg xmlns=\"http://www.w3.org/2000/svg\" height=\"24px\"viewBox=\"0 0 24 24\"\n",
              "       width=\"24px\">\n",
              "    <path d=\"M0 0h24v24H0V0z\" fill=\"none\"/>\n",
              "    <path d=\"M18.56 5.44l.94 2.06.94-2.06 2.06-.94-2.06-.94-.94-2.06-.94 2.06-2.06.94zm-11 1L8.5 8.5l.94-2.06 2.06-.94-2.06-.94L8.5 2.5l-.94 2.06-2.06.94zm10 10l.94 2.06.94-2.06 2.06-.94-2.06-.94-.94-2.06-.94 2.06-2.06.94z\"/><path d=\"M17.41 7.96l-1.37-1.37c-.4-.4-.92-.59-1.43-.59-.52 0-1.04.2-1.43.59L10.3 9.45l-7.72 7.72c-.78.78-.78 2.05 0 2.83L4 21.41c.39.39.9.59 1.41.59.51 0 1.02-.2 1.41-.59l7.78-7.78 2.81-2.81c.8-.78.8-2.07 0-2.86zM5.41 20L4 18.59l7.72-7.72 1.47 1.35L5.41 20z\"/>\n",
              "  </svg>\n",
              "      </button>\n",
              "      \n",
              "  <style>\n",
              "    .colab-df-container {\n",
              "      display:flex;\n",
              "      flex-wrap:wrap;\n",
              "      gap: 12px;\n",
              "    }\n",
              "\n",
              "    .colab-df-convert {\n",
              "      background-color: #E8F0FE;\n",
              "      border: none;\n",
              "      border-radius: 50%;\n",
              "      cursor: pointer;\n",
              "      display: none;\n",
              "      fill: #1967D2;\n",
              "      height: 32px;\n",
              "      padding: 0 0 0 0;\n",
              "      width: 32px;\n",
              "    }\n",
              "\n",
              "    .colab-df-convert:hover {\n",
              "      background-color: #E2EBFA;\n",
              "      box-shadow: 0px 1px 2px rgba(60, 64, 67, 0.3), 0px 1px 3px 1px rgba(60, 64, 67, 0.15);\n",
              "      fill: #174EA6;\n",
              "    }\n",
              "\n",
              "    [theme=dark] .colab-df-convert {\n",
              "      background-color: #3B4455;\n",
              "      fill: #D2E3FC;\n",
              "    }\n",
              "\n",
              "    [theme=dark] .colab-df-convert:hover {\n",
              "      background-color: #434B5C;\n",
              "      box-shadow: 0px 1px 3px 1px rgba(0, 0, 0, 0.15);\n",
              "      filter: drop-shadow(0px 1px 2px rgba(0, 0, 0, 0.3));\n",
              "      fill: #FFFFFF;\n",
              "    }\n",
              "  </style>\n",
              "\n",
              "      <script>\n",
              "        const buttonEl =\n",
              "          document.querySelector('#df-2cd3b0de-2183-4189-8d0f-963a36cf3f53 button.colab-df-convert');\n",
              "        buttonEl.style.display =\n",
              "          google.colab.kernel.accessAllowed ? 'block' : 'none';\n",
              "\n",
              "        async function convertToInteractive(key) {\n",
              "          const element = document.querySelector('#df-2cd3b0de-2183-4189-8d0f-963a36cf3f53');\n",
              "          const dataTable =\n",
              "            await google.colab.kernel.invokeFunction('convertToInteractive',\n",
              "                                                     [key], {});\n",
              "          if (!dataTable) return;\n",
              "\n",
              "          const docLinkHtml = 'Like what you see? Visit the ' +\n",
              "            '<a target=\"_blank\" href=https://colab.research.google.com/notebooks/data_table.ipynb>data table notebook</a>'\n",
              "            + ' to learn more about interactive tables.';\n",
              "          element.innerHTML = '';\n",
              "          dataTable['output_type'] = 'display_data';\n",
              "          await google.colab.output.renderOutput(dataTable, element);\n",
              "          const docLink = document.createElement('div');\n",
              "          docLink.innerHTML = docLinkHtml;\n",
              "          element.appendChild(docLink);\n",
              "        }\n",
              "      </script>\n",
              "    </div>\n",
              "  </div>\n",
              "  "
            ]
          },
          "metadata": {},
          "execution_count": 3
        }
      ],
      "source": [
        "## print the top5 records\n",
        "dataset.head()"
      ]
    },
    {
      "cell_type": "markdown",
      "metadata": {
        "id": "Sti7o3JQWhe6"
      },
      "source": [
        "## Missing Values Check\n"
      ]
    },
    {
      "cell_type": "code",
      "execution_count": 4,
      "metadata": {
        "id": "OiVX_N-ZKyPX"
      },
      "outputs": [],
      "source": [
        "# Making function to check missing or null values of dataframes\n",
        "def missing_values(df): \n",
        "    mis_val=df.isnull().sum()\n",
        "    mis_val_percent=round(df.isnull().mean().mul(100),2)\n",
        "    mz_table=pd.concat([mis_val,mis_val_percent],axis=1)\n",
        "    mz_table=mz_table.rename(\n",
        "    columns={df.index.name:'col_name',0:'Missing Values',1:'% of Total Values'})\n",
        "    mz_table['Data_type']=df.dtypes\n",
        "    mz_table=mz_table.sort_values('% of Total Values',ascending=False)\n",
        "    return mz_table.reset_index()"
      ]
    },
    {
      "cell_type": "code",
      "execution_count": 5,
      "metadata": {
        "colab": {
          "base_uri": "https://localhost:8080/",
          "height": 394
        },
        "id": "2EHRRmijLEg7",
        "outputId": "0c755f2a-ca4e-43f2-8011-86bd37b6643f"
      },
      "outputs": [
        {
          "output_type": "execute_result",
          "data": {
            "text/plain": [
              "             index  Missing Values  % of Total Values Data_type\n",
              "0             step               0                0.0     int64\n",
              "1             type               0                0.0    object\n",
              "2           amount               0                0.0   float64\n",
              "3         nameOrig               0                0.0    object\n",
              "4    oldbalanceOrg               0                0.0   float64\n",
              "5   newbalanceOrig               0                0.0   float64\n",
              "6         nameDest               0                0.0    object\n",
              "7   oldbalanceDest               0                0.0   float64\n",
              "8   newbalanceDest               0                0.0   float64\n",
              "9          isFraud               0                0.0     int64\n",
              "10  isFlaggedFraud               0                0.0     int64"
            ],
            "text/html": [
              "\n",
              "  <div id=\"df-8d600a8d-9c8c-438e-b039-e12cc701a726\">\n",
              "    <div class=\"colab-df-container\">\n",
              "      <div>\n",
              "<style scoped>\n",
              "    .dataframe tbody tr th:only-of-type {\n",
              "        vertical-align: middle;\n",
              "    }\n",
              "\n",
              "    .dataframe tbody tr th {\n",
              "        vertical-align: top;\n",
              "    }\n",
              "\n",
              "    .dataframe thead th {\n",
              "        text-align: right;\n",
              "    }\n",
              "</style>\n",
              "<table border=\"1\" class=\"dataframe\">\n",
              "  <thead>\n",
              "    <tr style=\"text-align: right;\">\n",
              "      <th></th>\n",
              "      <th>index</th>\n",
              "      <th>Missing Values</th>\n",
              "      <th>% of Total Values</th>\n",
              "      <th>Data_type</th>\n",
              "    </tr>\n",
              "  </thead>\n",
              "  <tbody>\n",
              "    <tr>\n",
              "      <th>0</th>\n",
              "      <td>step</td>\n",
              "      <td>0</td>\n",
              "      <td>0.0</td>\n",
              "      <td>int64</td>\n",
              "    </tr>\n",
              "    <tr>\n",
              "      <th>1</th>\n",
              "      <td>type</td>\n",
              "      <td>0</td>\n",
              "      <td>0.0</td>\n",
              "      <td>object</td>\n",
              "    </tr>\n",
              "    <tr>\n",
              "      <th>2</th>\n",
              "      <td>amount</td>\n",
              "      <td>0</td>\n",
              "      <td>0.0</td>\n",
              "      <td>float64</td>\n",
              "    </tr>\n",
              "    <tr>\n",
              "      <th>3</th>\n",
              "      <td>nameOrig</td>\n",
              "      <td>0</td>\n",
              "      <td>0.0</td>\n",
              "      <td>object</td>\n",
              "    </tr>\n",
              "    <tr>\n",
              "      <th>4</th>\n",
              "      <td>oldbalanceOrg</td>\n",
              "      <td>0</td>\n",
              "      <td>0.0</td>\n",
              "      <td>float64</td>\n",
              "    </tr>\n",
              "    <tr>\n",
              "      <th>5</th>\n",
              "      <td>newbalanceOrig</td>\n",
              "      <td>0</td>\n",
              "      <td>0.0</td>\n",
              "      <td>float64</td>\n",
              "    </tr>\n",
              "    <tr>\n",
              "      <th>6</th>\n",
              "      <td>nameDest</td>\n",
              "      <td>0</td>\n",
              "      <td>0.0</td>\n",
              "      <td>object</td>\n",
              "    </tr>\n",
              "    <tr>\n",
              "      <th>7</th>\n",
              "      <td>oldbalanceDest</td>\n",
              "      <td>0</td>\n",
              "      <td>0.0</td>\n",
              "      <td>float64</td>\n",
              "    </tr>\n",
              "    <tr>\n",
              "      <th>8</th>\n",
              "      <td>newbalanceDest</td>\n",
              "      <td>0</td>\n",
              "      <td>0.0</td>\n",
              "      <td>float64</td>\n",
              "    </tr>\n",
              "    <tr>\n",
              "      <th>9</th>\n",
              "      <td>isFraud</td>\n",
              "      <td>0</td>\n",
              "      <td>0.0</td>\n",
              "      <td>int64</td>\n",
              "    </tr>\n",
              "    <tr>\n",
              "      <th>10</th>\n",
              "      <td>isFlaggedFraud</td>\n",
              "      <td>0</td>\n",
              "      <td>0.0</td>\n",
              "      <td>int64</td>\n",
              "    </tr>\n",
              "  </tbody>\n",
              "</table>\n",
              "</div>\n",
              "      <button class=\"colab-df-convert\" onclick=\"convertToInteractive('df-8d600a8d-9c8c-438e-b039-e12cc701a726')\"\n",
              "              title=\"Convert this dataframe to an interactive table.\"\n",
              "              style=\"display:none;\">\n",
              "        \n",
              "  <svg xmlns=\"http://www.w3.org/2000/svg\" height=\"24px\"viewBox=\"0 0 24 24\"\n",
              "       width=\"24px\">\n",
              "    <path d=\"M0 0h24v24H0V0z\" fill=\"none\"/>\n",
              "    <path d=\"M18.56 5.44l.94 2.06.94-2.06 2.06-.94-2.06-.94-.94-2.06-.94 2.06-2.06.94zm-11 1L8.5 8.5l.94-2.06 2.06-.94-2.06-.94L8.5 2.5l-.94 2.06-2.06.94zm10 10l.94 2.06.94-2.06 2.06-.94-2.06-.94-.94-2.06-.94 2.06-2.06.94z\"/><path d=\"M17.41 7.96l-1.37-1.37c-.4-.4-.92-.59-1.43-.59-.52 0-1.04.2-1.43.59L10.3 9.45l-7.72 7.72c-.78.78-.78 2.05 0 2.83L4 21.41c.39.39.9.59 1.41.59.51 0 1.02-.2 1.41-.59l7.78-7.78 2.81-2.81c.8-.78.8-2.07 0-2.86zM5.41 20L4 18.59l7.72-7.72 1.47 1.35L5.41 20z\"/>\n",
              "  </svg>\n",
              "      </button>\n",
              "      \n",
              "  <style>\n",
              "    .colab-df-container {\n",
              "      display:flex;\n",
              "      flex-wrap:wrap;\n",
              "      gap: 12px;\n",
              "    }\n",
              "\n",
              "    .colab-df-convert {\n",
              "      background-color: #E8F0FE;\n",
              "      border: none;\n",
              "      border-radius: 50%;\n",
              "      cursor: pointer;\n",
              "      display: none;\n",
              "      fill: #1967D2;\n",
              "      height: 32px;\n",
              "      padding: 0 0 0 0;\n",
              "      width: 32px;\n",
              "    }\n",
              "\n",
              "    .colab-df-convert:hover {\n",
              "      background-color: #E2EBFA;\n",
              "      box-shadow: 0px 1px 2px rgba(60, 64, 67, 0.3), 0px 1px 3px 1px rgba(60, 64, 67, 0.15);\n",
              "      fill: #174EA6;\n",
              "    }\n",
              "\n",
              "    [theme=dark] .colab-df-convert {\n",
              "      background-color: #3B4455;\n",
              "      fill: #D2E3FC;\n",
              "    }\n",
              "\n",
              "    [theme=dark] .colab-df-convert:hover {\n",
              "      background-color: #434B5C;\n",
              "      box-shadow: 0px 1px 3px 1px rgba(0, 0, 0, 0.15);\n",
              "      filter: drop-shadow(0px 1px 2px rgba(0, 0, 0, 0.3));\n",
              "      fill: #FFFFFF;\n",
              "    }\n",
              "  </style>\n",
              "\n",
              "      <script>\n",
              "        const buttonEl =\n",
              "          document.querySelector('#df-8d600a8d-9c8c-438e-b039-e12cc701a726 button.colab-df-convert');\n",
              "        buttonEl.style.display =\n",
              "          google.colab.kernel.accessAllowed ? 'block' : 'none';\n",
              "\n",
              "        async function convertToInteractive(key) {\n",
              "          const element = document.querySelector('#df-8d600a8d-9c8c-438e-b039-e12cc701a726');\n",
              "          const dataTable =\n",
              "            await google.colab.kernel.invokeFunction('convertToInteractive',\n",
              "                                                     [key], {});\n",
              "          if (!dataTable) return;\n",
              "\n",
              "          const docLinkHtml = 'Like what you see? Visit the ' +\n",
              "            '<a target=\"_blank\" href=https://colab.research.google.com/notebooks/data_table.ipynb>data table notebook</a>'\n",
              "            + ' to learn more about interactive tables.';\n",
              "          element.innerHTML = '';\n",
              "          dataTable['output_type'] = 'display_data';\n",
              "          await google.colab.output.renderOutput(dataTable, element);\n",
              "          const docLink = document.createElement('div');\n",
              "          docLink.innerHTML = docLinkHtml;\n",
              "          element.appendChild(docLink);\n",
              "        }\n",
              "      </script>\n",
              "    </div>\n",
              "  </div>\n",
              "  "
            ]
          },
          "metadata": {},
          "execution_count": 5
        }
      ],
      "source": [
        "missing_values(dataset)"
      ]
    },
    {
      "cell_type": "code",
      "execution_count": 6,
      "metadata": {
        "colab": {
          "base_uri": "https://localhost:8080/",
          "height": 687
        },
        "id": "L8JjeYMBNmlp",
        "outputId": "262de690-8845-4d0a-814d-54dc32aa358f"
      },
      "outputs": [
        {
          "output_type": "execute_result",
          "data": {
            "text/plain": [
              "<Axes: >"
            ]
          },
          "metadata": {},
          "execution_count": 6
        },
        {
          "output_type": "display_data",
          "data": {
            "text/plain": [
              "<Figure size 500x500 with 3 Axes>"
            ],
            "image/png": "[encoded data removed]"
          },
          "metadata": {}
        }
      ],
      "source": [
        "# Visualizing the missing values\n",
        "msno.bar(dataset,figsize=(5,5), color=\"tab:cyan\") "
      ]
    },
    {
      "cell_type": "markdown",
      "metadata": {
        "id": "Dy-Io_e6WjKb"
      },
      "source": [
        "##Dataset Information"
      ]
    },
    {
      "cell_type": "code",
      "execution_count": 7,
      "metadata": {
        "colab": {
          "base_uri": "https://localhost:8080/"
        },
        "id": "iPkhNE7fVAQs",
        "outputId": "9215394b-ae11-47bb-b9b0-23ca88537252"
      },
      "outputs": [
        {
          "output_type": "stream",
          "name": "stdout",
          "text": [
            "<class 'pandas.core.frame.DataFrame'>\n",
            "RangeIndex: 6362620 entries, 0 to 6362619\n",
            "Data columns (total 11 columns):\n",
            " #   Column          Dtype  \n",
            "---  ------          -----  \n",
            " 0   step            int64  \n",
            " 1   type            object \n",
            " 2   amount          float64\n",
            " 3   nameOrig        object \n",
            " 4   oldbalanceOrg   float64\n",
            " 5   newbalanceOrig  float64\n",
            " 6   nameDest        object \n",
            " 7   oldbalanceDest  float64\n",
            " 8   newbalanceDest  float64\n",
            " 9   isFraud         int64  \n",
            " 10  isFlaggedFraud  int64  \n",
            "dtypes: float64(5), int64(3), object(3)\n",
            "memory usage: 534.0+ MB\n"
          ]
        }
      ],
      "source": [
        "dataset.info()"
      ]
    },
    {
      "cell_type": "markdown",
      "metadata": {
        "id": "70s0XodWVfWR"
      },
      "source": [
        "### The isFraud variable is read as an integer. Since this is the class variable, we convert it to object type. The following python code is used to perform this conversion."
      ]
    },
    {
      "cell_type": "code",
      "execution_count": 8,
      "metadata": {
        "id": "XUM1LP9HVAOE"
      },
      "outputs": [],
      "source": [
        "# Convert class variables type to object\n",
        "dataset['isFraud'] = dataset['isFraud'].astype('object')\n",
        "# Convert class variables type to object\n",
        "dataset['isFlaggedFraud'] = dataset['isFlaggedFraud'].astype('object')"
      ]
    },
    {
      "cell_type": "markdown",
      "metadata": {
        "id": "VujIuuTuVwkp"
      },
      "source": [
        "## Summary Statistics\n"
      ]
    },
    {
      "cell_type": "code",
      "execution_count": 9,
      "metadata": {
        "colab": {
          "base_uri": "https://localhost:8080/",
          "height": 300
        },
        "id": "dGUzeNgHVALn",
        "outputId": "9a864208-b907-45e0-da5d-80cf7ab03fea"
      },
      "outputs": [
        {
          "output_type": "execute_result",
          "data": {
            "text/plain": [
              "               step        amount  oldbalanceOrg  newbalanceOrig  \\\n",
              "count  6.362620e+06  6.362620e+06   6.362620e+06    6.362620e+06   \n",
              "mean   2.433972e+02  1.798619e+05   8.338831e+05    8.551137e+05   \n",
              "std    1.423320e+02  6.038582e+05   2.888243e+06    2.924049e+06   \n",
              "min    1.000000e+00  0.000000e+00   0.000000e+00    0.000000e+00   \n",
              "25%    1.560000e+02  1.338957e+04   0.000000e+00    0.000000e+00   \n",
              "50%    2.390000e+02  7.487194e+04   1.420800e+04    0.000000e+00   \n",
              "75%    3.350000e+02  2.087215e+05   1.073152e+05    1.442584e+05   \n",
              "max    7.430000e+02  9.244552e+07   5.958504e+07    4.958504e+07   \n",
              "\n",
              "       oldbalanceDest  newbalanceDest  \n",
              "count    6.362620e+06    6.362620e+06  \n",
              "mean     1.100702e+06    1.224996e+06  \n",
              "std      3.399180e+06    3.674129e+06  \n",
              "min      0.000000e+00    0.000000e+00  \n",
              "25%      0.000000e+00    0.000000e+00  \n",
              "50%      1.327057e+05    2.146614e+05  \n",
              "75%      9.430367e+05    1.111909e+06  \n",
              "max      3.560159e+08    3.561793e+08  "
            ],
            "text/html": [
              "\n",
              "  <div id=\"df-baa2a889-3976-4826-8d57-a8561217b94d\">\n",
              "    <div class=\"colab-df-container\">\n",
              "      <div>\n",
              "<style scoped>\n",
              "    .dataframe tbody tr th:only-of-type {\n",
              "        vertical-align: middle;\n",
              "    }\n",
              "\n",
              "    .dataframe tbody tr th {\n",
              "        vertical-align: top;\n",
              "    }\n",
              "\n",
              "    .dataframe thead th {\n",
              "        text-align: right;\n",
              "    }\n",
              "</style>\n",
              "<table border=\"1\" class=\"dataframe\">\n",
              "  <thead>\n",
              "    <tr style=\"text-align: right;\">\n",
              "      <th></th>\n",
              "      <th>step</th>\n",
              "      <th>amount</th>\n",
              "      <th>oldbalanceOrg</th>\n",
              "      <th>newbalanceOrig</th>\n",
              "      <th>oldbalanceDest</th>\n",
              "      <th>newbalanceDest</th>\n",
              "    </tr>\n",
              "  </thead>\n",
              "  <tbody>\n",
              "    <tr>\n",
              "      <th>count</th>\n",
              "      <td>6.362620e+06</td>\n",
              "      <td>6.362620e+06</td>\n",
              "      <td>6.362620e+06</td>\n",
              "      <td>6.362620e+06</td>\n",
              "      <td>6.362620e+06</td>\n",
              "      <td>6.362620e+06</td>\n",
              "    </tr>\n",
              "    <tr>\n",
              "      <th>mean</th>\n",
              "      <td>2.433972e+02</td>\n",
              "      <td>1.798619e+05</td>\n",
              "      <td>8.338831e+05</td>\n",
              "      <td>8.551137e+05</td>\n",
              "      <td>1.100702e+06</td>\n",
              "      <td>1.224996e+06</td>\n",
              "    </tr>\n",
              "    <tr>\n",
              "      <th>std</th>\n",
              "      <td>1.423320e+02</td>\n",
              "      <td>6.038582e+05</td>\n",
              "      <td>2.888243e+06</td>\n",
              "      <td>2.924049e+06</td>\n",
              "      <td>3.399180e+06</td>\n",
              "      <td>3.674129e+06</td>\n",
              "    </tr>\n",
              "    <tr>\n",
              "      <th>min</th>\n",
              "      <td>1.000000e+00</td>\n",
              "      <td>0.000000e+00</td>\n",
              "      <td>0.000000e+00</td>\n",
              "      <td>0.000000e+00</td>\n",
              "      <td>0.000000e+00</td>\n",
              "      <td>0.000000e+00</td>\n",
              "    </tr>\n",
              "    <tr>\n",
              "      <th>25%</th>\n",
              "      <td>1.560000e+02</td>\n",
              "      <td>1.338957e+04</td>\n",
              "      <td>0.000000e+00</td>\n",
              "      <td>0.000000e+00</td>\n",
              "      <td>0.000000e+00</td>\n",
              "      <td>0.000000e+00</td>\n",
              "    </tr>\n",
              "    <tr>\n",
              "      <th>50%</th>\n",
              "      <td>2.390000e+02</td>\n",
              "      <td>7.487194e+04</td>\n",
              "      <td>1.420800e+04</td>\n",
              "      <td>0.000000e+00</td>\n",
              "      <td>1.327057e+05</td>\n",
              "      <td>2.146614e+05</td>\n",
              "    </tr>\n",
              "    <tr>\n",
              "      <th>75%</th>\n",
              "      <td>3.350000e+02</td>\n",
              "      <td>2.087215e+05</td>\n",
              "      <td>1.073152e+05</td>\n",
              "      <td>1.442584e+05</td>\n",
              "      <td>9.430367e+05</td>\n",
              "      <td>1.111909e+06</td>\n",
              "    </tr>\n",
              "    <tr>\n",
              "      <th>max</th>\n",
              "      <td>7.430000e+02</td>\n",
              "      <td>9.244552e+07</td>\n",
              "      <td>5.958504e+07</td>\n",
              "      <td>4.958504e+07</td>\n",
              "      <td>3.560159e+08</td>\n",
              "      <td>3.561793e+08</td>\n",
              "    </tr>\n",
              "  </tbody>\n",
              "</table>\n",
              "</div>\n",
              "      <button class=\"colab-df-convert\" onclick=\"convertToInteractive('df-baa2a889-3976-4826-8d57-a8561217b94d')\"\n",
              "              title=\"Convert this dataframe to an interactive table.\"\n",
              "              style=\"display:none;\">\n",
              "        \n",
              "  <svg xmlns=\"http://www.w3.org/2000/svg\" height=\"24px\"viewBox=\"0 0 24 24\"\n",
              "       width=\"24px\">\n",
              "    <path d=\"M0 0h24v24H0V0z\" fill=\"none\"/>\n",
              "    <path d=\"M18.56 5.44l.94 2.06.94-2.06 2.06-.94-2.06-.94-.94-2.06-.94 2.06-2.06.94zm-11 1L8.5 8.5l.94-2.06 2.06-.94-2.06-.94L8.5 2.5l-.94 2.06-2.06.94zm10 10l.94 2.06.94-2.06 2.06-.94-2.06-.94-.94-2.06-.94 2.06-2.06.94z\"/><path d=\"M17.41 7.96l-1.37-1.37c-.4-.4-.92-.59-1.43-.59-.52 0-1.04.2-1.43.59L10.3 9.45l-7.72 7.72c-.78.78-.78 2.05 0 2.83L4 21.41c.39.39.9.59 1.41.59.51 0 1.02-.2 1.41-.59l7.78-7.78 2.81-2.81c.8-.78.8-2.07 0-2.86zM5.41 20L4 18.59l7.72-7.72 1.47 1.35L5.41 20z\"/>\n",
              "  </svg>\n",
              "      </button>\n",
              "      \n",
              "  <style>\n",
              "    .colab-df-container {\n",
              "      display:flex;\n",
              "      flex-wrap:wrap;\n",
              "      gap: 12px;\n",
              "    }\n",
              "\n",
              "    .colab-df-convert {\n",
              "      background-color: #E8F0FE;\n",
              "      border: none;\n",
              "      border-radius: 50%;\n",
              "      cursor: pointer;\n",
              "      display: none;\n",
              "      fill: #1967D2;\n",
              "      height: 32px;\n",
              "      padding: 0 0 0 0;\n",
              "      width: 32px;\n",
              "    }\n",
              "\n",
              "    .colab-df-convert:hover {\n",
              "      background-color: #E2EBFA;\n",
              "      box-shadow: 0px 1px 2px rgba(60, 64, 67, 0.3), 0px 1px 3px 1px rgba(60, 64, 67, 0.15);\n",
              "      fill: #174EA6;\n",
              "    }\n",
              "\n",
              "    [theme=dark] .colab-df-convert {\n",
              "      background-color: #3B4455;\n",
              "      fill: #D2E3FC;\n",
              "    }\n",
              "\n",
              "    [theme=dark] .colab-df-convert:hover {\n",
              "      background-color: #434B5C;\n",
              "      box-shadow: 0px 1px 3px 1px rgba(0, 0, 0, 0.15);\n",
              "      filter: drop-shadow(0px 1px 2px rgba(0, 0, 0, 0.3));\n",
              "      fill: #FFFFFF;\n",
              "    }\n",
              "  </style>\n",
              "\n",
              "      <script>\n",
              "        const buttonEl =\n",
              "          document.querySelector('#df-baa2a889-3976-4826-8d57-a8561217b94d button.colab-df-convert');\n",
              "        buttonEl.style.display =\n",
              "          google.colab.kernel.accessAllowed ? 'block' : 'none';\n",
              "\n",
              "        async function convertToInteractive(key) {\n",
              "          const element = document.querySelector('#df-baa2a889-3976-4826-8d57-a8561217b94d');\n",
              "          const dataTable =\n",
              "            await google.colab.kernel.invokeFunction('convertToInteractive',\n",
              "                                                     [key], {});\n",
              "          if (!dataTable) return;\n",
              "\n",
              "          const docLinkHtml = 'Like what you see? Visit the ' +\n",
              "            '<a target=\"_blank\" href=https://colab.research.google.com/notebooks/data_table.ipynb>data table notebook</a>'\n",
              "            + ' to learn more about interactive tables.';\n",
              "          element.innerHTML = '';\n",
              "          dataTable['output_type'] = 'display_data';\n",
              "          await google.colab.output.renderOutput(dataTable, element);\n",
              "          const docLink = document.createElement('div');\n",
              "          docLink.innerHTML = docLinkHtml;\n",
              "          element.appendChild(docLink);\n",
              "        }\n",
              "      </script>\n",
              "    </div>\n",
              "  </div>\n",
              "  "
            ]
          },
          "metadata": {},
          "execution_count": 9
        }
      ],
      "source": [
        "dataset.describe()"
      ]
    },
    {
      "cell_type": "markdown",
      "metadata": {
        "id": "foRLpuKMWqda"
      },
      "source": [
        "###Summary of Statistics of Categorical Variables"
      ]
    },
    {
      "cell_type": "code",
      "execution_count": 10,
      "metadata": {
        "colab": {
          "base_uri": "https://localhost:8080/",
          "height": 175
        },
        "id": "4jCaLsU8VAJC",
        "outputId": "4b76e32d-73e6-4dca-b467-ee00d6e5571a"
      },
      "outputs": [
        {
          "output_type": "execute_result",
          "data": {
            "text/plain": [
              "            type     nameOrig     nameDest  isFraud  isFlaggedFraud\n",
              "count    6362620      6362620      6362620  6362620         6362620\n",
              "unique         5      6353307      2722362        2               2\n",
              "top     CASH_OUT  C1902386530  C1286084959        0               0\n",
              "freq     2237500            3          113  6354407         6362604"
            ],
            "text/html": [
              "\n",
              "  <div id=\"df-257717e4-4769-4798-8413-1663becb2097\">\n",
              "    <div class=\"colab-df-container\">\n",
              "      <div>\n",
              "<style scoped>\n",
              "    .dataframe tbody tr th:only-of-type {\n",
              "        vertical-align: middle;\n",
              "    }\n",
              "\n",
              "    .dataframe tbody tr th {\n",
              "        vertical-align: top;\n",
              "    }\n",
              "\n",
              "    .dataframe thead th {\n",
              "        text-align: right;\n",
              "    }\n",
              "</style>\n",
              "<table border=\"1\" class=\"dataframe\">\n",
              "  <thead>\n",
              "    <tr style=\"text-align: right;\">\n",
              "      <th></th>\n",
              "      <th>type</th>\n",
              "      <th>nameOrig</th>\n",
              "      <th>nameDest</th>\n",
              "      <th>isFraud</th>\n",
              "      <th>isFlaggedFraud</th>\n",
              "    </tr>\n",
              "  </thead>\n",
              "  <tbody>\n",
              "    <tr>\n",
              "      <th>count</th>\n",
              "      <td>6362620</td>\n",
              "      <td>6362620</td>\n",
              "      <td>6362620</td>\n",
              "      <td>6362620</td>\n",
              "      <td>6362620</td>\n",
              "    </tr>\n",
              "    <tr>\n",
              "      <th>unique</th>\n",
              "      <td>5</td>\n",
              "      <td>6353307</td>\n",
              "      <td>2722362</td>\n",
              "      <td>2</td>\n",
              "      <td>2</td>\n",
              "    </tr>\n",
              "    <tr>\n",
              "      <th>top</th>\n",
              "      <td>CASH_OUT</td>\n",
              "      <td>C1902386530</td>\n",
              "      <td>C1286084959</td>\n",
              "      <td>0</td>\n",
              "      <td>0</td>\n",
              "    </tr>\n",
              "    <tr>\n",
              "      <th>freq</th>\n",
              "      <td>2237500</td>\n",
              "      <td>3</td>\n",
              "      <td>113</td>\n",
              "      <td>6354407</td>\n",
              "      <td>6362604</td>\n",
              "    </tr>\n",
              "  </tbody>\n",
              "</table>\n",
              "</div>\n",
              "      <button class=\"colab-df-convert\" onclick=\"convertToInteractive('df-257717e4-4769-4798-8413-1663becb2097')\"\n",
              "              title=\"Convert this dataframe to an interactive table.\"\n",
              "              style=\"display:none;\">\n",
              "        \n",
              "  <svg xmlns=\"http://www.w3.org/2000/svg\" height=\"24px\"viewBox=\"0 0 24 24\"\n",
              "       width=\"24px\">\n",
              "    <path d=\"M0 0h24v24H0V0z\" fill=\"none\"/>\n",
              "    <path d=\"M18.56 5.44l.94 2.06.94-2.06 2.06-.94-2.06-.94-.94-2.06-.94 2.06-2.06.94zm-11 1L8.5 8.5l.94-2.06 2.06-.94-2.06-.94L8.5 2.5l-.94 2.06-2.06.94zm10 10l.94 2.06.94-2.06 2.06-.94-2.06-.94-.94-2.06-.94 2.06-2.06.94z\"/><path d=\"M17.41 7.96l-1.37-1.37c-.4-.4-.92-.59-1.43-.59-.52 0-1.04.2-1.43.59L10.3 9.45l-7.72 7.72c-.78.78-.78 2.05 0 2.83L4 21.41c.39.39.9.59 1.41.59.51 0 1.02-.2 1.41-.59l7.78-7.78 2.81-2.81c.8-.78.8-2.07 0-2.86zM5.41 20L4 18.59l7.72-7.72 1.47 1.35L5.41 20z\"/>\n",
              "  </svg>\n",
              "      </button>\n",
              "      \n",
              "  <style>\n",
              "    .colab-df-container {\n",
              "      display:flex;\n",
              "      flex-wrap:wrap;\n",
              "      gap: 12px;\n",
              "    }\n",
              "\n",
              "    .colab-df-convert {\n",
              "      background-color: #E8F0FE;\n",
              "      border: none;\n",
              "      border-radius: 50%;\n",
              "      cursor: pointer;\n",
              "      display: none;\n",
              "      fill: #1967D2;\n",
              "      height: 32px;\n",
              "      padding: 0 0 0 0;\n",
              "      width: 32px;\n",
              "    }\n",
              "\n",
              "    .colab-df-convert:hover {\n",
              "      background-color: #E2EBFA;\n",
              "      box-shadow: 0px 1px 2px rgba(60, 64, 67, 0.3), 0px 1px 3px 1px rgba(60, 64, 67, 0.15);\n",
              "      fill: #174EA6;\n",
              "    }\n",
              "\n",
              "    [theme=dark] .colab-df-convert {\n",
              "      background-color: #3B4455;\n",
              "      fill: #D2E3FC;\n",
              "    }\n",
              "\n",
              "    [theme=dark] .colab-df-convert:hover {\n",
              "      background-color: #434B5C;\n",
              "      box-shadow: 0px 1px 3px 1px rgba(0, 0, 0, 0.15);\n",
              "      filter: drop-shadow(0px 1px 2px rgba(0, 0, 0, 0.3));\n",
              "      fill: #FFFFFF;\n",
              "    }\n",
              "  </style>\n",
              "\n",
              "      <script>\n",
              "        const buttonEl =\n",
              "          document.querySelector('#df-257717e4-4769-4798-8413-1663becb2097 button.colab-df-convert');\n",
              "        buttonEl.style.display =\n",
              "          google.colab.kernel.accessAllowed ? 'block' : 'none';\n",
              "\n",
              "        async function convertToInteractive(key) {\n",
              "          const element = document.querySelector('#df-257717e4-4769-4798-8413-1663becb2097');\n",
              "          const dataTable =\n",
              "            await google.colab.kernel.invokeFunction('convertToInteractive',\n",
              "                                                     [key], {});\n",
              "          if (!dataTable) return;\n",
              "\n",
              "          const docLinkHtml = 'Like what you see? Visit the ' +\n",
              "            '<a target=\"_blank\" href=https://colab.research.google.com/notebooks/data_table.ipynb>data table notebook</a>'\n",
              "            + ' to learn more about interactive tables.';\n",
              "          element.innerHTML = '';\n",
              "          dataTable['output_type'] = 'display_data';\n",
              "          await google.colab.output.renderOutput(dataTable, element);\n",
              "          const docLink = document.createElement('div');\n",
              "          docLink.innerHTML = docLinkHtml;\n",
              "          element.appendChild(docLink);\n",
              "        }\n",
              "      </script>\n",
              "    </div>\n",
              "  </div>\n",
              "  "
            ]
          },
          "metadata": {},
          "execution_count": 10
        }
      ],
      "source": [
        "categorical_features = dataset.select_dtypes(include=['O'])\n",
        "categorical_features.describe()"
      ]
    },
    {
      "cell_type": "markdown",
      "metadata": {
        "id": "n1ocs8gCWxqV"
      },
      "source": [
        "## Exploratory Analysis"
      ]
    },
    {
      "cell_type": "markdown",
      "metadata": {
        "id": "fD-Q9LPjrrRQ"
      },
      "source": [
        "### Checking the amount column"
      ]
    },
    {
      "cell_type": "code",
      "execution_count": 11,
      "metadata": {
        "colab": {
          "base_uri": "https://localhost:8080/",
          "height": 466
        },
        "id": "YZ5yaSwFdEY2",
        "outputId": "54cf6ee3-0349-4411-ed67-f39d49464144"
      },
      "outputs": [
        {
          "output_type": "execute_result",
          "data": {
            "text/plain": [
              "<Axes: xlabel='amount'>"
            ]
          },
          "metadata": {},
          "execution_count": 11
        },
        {
          "output_type": "display_data",
          "data": {
            "text/plain": [
              "<Figure size 640x480 with 1 Axes>"
            ],
            "image/png": "[encoded data removed]"
          },
          "metadata": {}
        }
      ],
      "source": [
        "sns.boxplot(x=dataset[\"amount\"])"
      ]
    },
    {
      "cell_type": "markdown",
      "metadata": {
        "id": "p1YUXAA0iSq5"
      },
      "source": [
        "Amount Column has Outliers"
      ]
    },
    {
      "cell_type": "markdown",
      "metadata": {
        "id": "4h5EUV6Lr0q7"
      },
      "source": [
        "###Filter dataset to remove negative or zero transaction amounts"
      ]
    },
    {
      "cell_type": "code",
      "execution_count": 12,
      "metadata": {
        "id": "1TD9egOrc93f"
      },
      "outputs": [],
      "source": [
        "# Filter dataset to remove negative or zero transaction amounts\n",
        "dataset = dataset[dataset['amount'] > 0]"
      ]
    },
    {
      "cell_type": "markdown",
      "metadata": {
        "id": "XBs3Y85Ar4Ts"
      },
      "source": [
        "### Transaction Amount of Fraud and Non-Fraud Transactions"
      ]
    },
    {
      "cell_type": "code",
      "execution_count": 13,
      "metadata": {
        "colab": {
          "base_uri": "https://localhost:8080/",
          "height": 487
        },
        "id": "a7h_CDc8hjdf",
        "outputId": "2c548890-3348-4683-96ee-94a574e1e09a"
      },
      "outputs": [
        {
          "output_type": "display_data",
          "data": {
            "text/plain": [
              "<Figure size 640x480 with 1 Axes>"
            ],
            "image/png": "[encoded data removed]"
          },
          "metadata": {}
        }
      ],
      "source": [
        "fraud_transactions = dataset.loc[dataset['isFraud'] == 1]\n",
        "non_fraud_transactions = dataset.loc[dataset['isFraud'] == 0]\n",
        "\n",
        "plt.scatter(fraud_transactions.index, fraud_transactions['amount'], color='red', label='Fraud')\n",
        "plt.scatter(non_fraud_transactions.index, non_fraud_transactions['amount'], color='blue', label='Non-Fraud')\n",
        "plt.xlabel('Transaction Index')\n",
        "plt.ylabel('Transaction Amount')\n",
        "plt.title('Transaction Amount of Fraud and Non-Fraud Transactions')\n",
        "plt.legend()\n",
        "plt.show()\n",
        "\n"
      ]
    },
    {
      "cell_type": "markdown",
      "metadata": {
        "id": "BrbslM7gijUF"
      },
      "source": [
        "Based on the scatter plot of the transaction amount for fraud and non-fraud transactions, there doesn't seem to be a clear difference between the two categories. While there may be a slight difference in the distribution, it's not significant enough to make a conclusive statement."
      ]
    },
    {
      "cell_type": "markdown",
      "metadata": {
        "id": "Gyr_yi-HW3vz"
      },
      "source": [
        "### Target Column Check"
      ]
    },
    {
      "cell_type": "code",
      "execution_count": 14,
      "metadata": {
        "colab": {
          "base_uri": "https://localhost:8080/"
        },
        "id": "uB79bceJVAF4",
        "outputId": "63a6332a-ec6c-4294-9ef8-63d1234c6697"
      },
      "outputs": [
        {
          "output_type": "execute_result",
          "data": {
            "text/plain": [
              "0    99.87\n",
              "1     0.13\n",
              "Name: isFraud, dtype: float64"
            ]
          },
          "metadata": {},
          "execution_count": 14
        }
      ],
      "source": [
        "#counting dataset\n",
        "(dataset['isFraud'].value_counts(normalize=True) * 100).round(2)"
      ]
    },
    {
      "cell_type": "markdown",
      "metadata": {
        "id": "85dGnpWGXfu7"
      },
      "source": [
        "### Visualizing the data of target column"
      ]
    },
    {
      "cell_type": "code",
      "execution_count": 15,
      "metadata": {
        "colab": {
          "base_uri": "https://localhost:8080/",
          "height": 449
        },
        "id": "cb-6wBSSVADb",
        "outputId": "cbcd7363-8bf8-41e2-e3a0-b0b8b4474a34"
      },
      "outputs": [
        {
          "output_type": "display_data",
          "data": {
            "text/plain": [
              "<Figure size 640x480 with 1 Axes>"
            ],
            "image/png": "[encoded data removed]"
          },
          "metadata": {}
        }
      ],
      "source": [
        "# Count the frequency of each category\n",
        "category_counts = dataset['isFraud'].value_counts()\n",
        "\n",
        "# Calculate the percentage of each category\n",
        "category_percents = category_counts / category_counts.sum() * 100\n",
        "\n",
        "# Create a bar plot\n",
        "sns.barplot(x=category_percents.index, y=category_percents)\n",
        "plt.ylabel('Percentage')\n",
        "plt.xlabel('isFraud')\n",
        "plt.show()"
      ]
    },
    {
      "cell_type": "markdown",
      "metadata": {
        "id": "7OJPA6mDYBOO"
      },
      "source": [
        "0 = Non-Fraud\n",
        "\n",
        "1 = Fraud\n",
        "\n",
        "The dataset shows a significant class imbalance, with only 0.13% transactions being fraudulent. This means that the majority of transactions are non-fraudulent, which can lead to a biased machine learning model. The overrepresentation of non-fraudulent transactions can have a substantial impact on the model training and affect its ability to correctly identify fraudulent transactions. Therefore, it is crucial to consider methods to address class imbalance before building a machine learning model."
      ]
    },
    {
      "cell_type": "markdown",
      "metadata": {
        "id": "ABraPoGKYj7J"
      },
      "source": [
        "### Types of Transactions"
      ]
    },
    {
      "cell_type": "code",
      "execution_count": 16,
      "metadata": {
        "colab": {
          "base_uri": "https://localhost:8080/",
          "height": 574
        },
        "id": "T7onGG3zZ-Jg",
        "outputId": "a6cf6637-a22b-463a-d6a1-13ab5ab6c2ad"
      },
      "outputs": [
        {
          "output_type": "display_data",
          "data": {
            "text/plain": [
              "<Figure size 800x600 with 1 Axes>"
            ],
            "image/png": "[encoded data removed]"
          },
          "metadata": {}
        }
      ],
      "source": [
        "sns.set(style=\"darkgrid\")\n",
        "plt.figure(figsize=(8,6))\n",
        "ax = sns.countplot(x=\"type\", data=dataset)\n",
        "total = len(dataset['type'])\n",
        "for p in ax.patches:\n",
        "    percentage = '{:.1f}%'.format(100 * p.get_height()/total)\n",
        "    x = p.get_x() + p.get_width()/2 - 0.05\n",
        "    y = p.get_y() + p.get_height() + 50\n",
        "    ax.annotate(percentage, (x, y), size = 12)\n",
        "    \n",
        "ax.set(ylabel='Count', title='Transaction Type Count')\n",
        "plt.show()"
      ]
    },
    {
      "cell_type": "markdown",
      "metadata": {
        "id": "8O3vArYLbI1_"
      },
      "source": [
        "The dataset shows that the two most common transaction types are CASH-OUT and PAYMENT."
      ]
    },
    {
      "cell_type": "markdown",
      "metadata": {
        "id": "Wnf_ONxPsQrc"
      },
      "source": [
        "### Fraud Transactions by Transaction Type"
      ]
    },
    {
      "cell_type": "code",
      "execution_count": 17,
      "metadata": {
        "colab": {
          "base_uri": "https://localhost:8080/",
          "height": 603
        },
        "id": "sqsKIVmoU_6D",
        "outputId": "3ebdfaae-d585-4598-ea35-6ca8f7697700"
      },
      "outputs": [
        {
          "output_type": "stream",
          "name": "stdout",
          "text": [
            "type\n",
            "CASH_IN        0\n",
            "CASH_OUT    4100\n",
            "DEBIT          0\n",
            "PAYMENT        0\n",
            "TRANSFER    4097\n",
            "Name: isFraud, dtype: object\n"
          ]
        },
        {
          "output_type": "display_data",
          "data": {
            "text/plain": [
              "<Figure size 640x480 with 1 Axes>"
            ],
            "image/png": "[encoded data removed]"
          },
          "metadata": {}
        }
      ],
      "source": [
        "fraud_by_type = dataset.groupby('type')['isFraud'].sum()\n",
        "print(fraud_by_type)\n",
        "sns.barplot(x=fraud_by_type.index, y=fraud_by_type.values/len(dataset)*100)\n",
        "plt.ylabel('Percentage')\n",
        "plt.xlabel('Transaction Type')\n",
        "plt.title('Fraud Transactions by Transaction Type')\n",
        "plt.show()"
      ]
    },
    {
      "cell_type": "markdown",
      "metadata": {
        "id": "KStFl5nVcAG-"
      },
      "source": [
        "However, it is important to note that only transactions categorized as CASH-OUT and TRANSFER are considered to be fraudulent"
      ]
    },
    {
      "cell_type": "markdown",
      "metadata": {
        "id": "HGmZl0ntscds"
      },
      "source": [
        "### Filtering the data categorized as cash-out and transfer"
      ]
    },
    {
      "cell_type": "code",
      "execution_count": 18,
      "metadata": {
        "colab": {
          "base_uri": "https://localhost:8080/"
        },
        "id": "xoe6RqWiU_2K",
        "outputId": "9c22c560-7b10-4417-f8c0-4df91d91d254"
      },
      "outputs": [
        {
          "output_type": "stream",
          "name": "stdout",
          "text": [
            "The new data now has  2770393  transactions.\n"
          ]
        }
      ],
      "source": [
        "dataset = dataset.loc[(dataset['type'] == 'CASH_OUT') | (dataset['type'] == 'TRANSFER')]\n",
        "print('The new data now has ', len(dataset), ' transactions.')\n"
      ]
    },
    {
      "cell_type": "markdown",
      "metadata": {
        "id": "FGEHCxiUcvCI"
      },
      "source": [
        "After filtering out the non-fraudulent transactions and retaining only the transactions categorized as CASH-OUT and TRANSFER, the data was reduced from over 6 million transactions to approximately 2.8 million transactions."
      ]
    },
    {
      "cell_type": "markdown",
      "metadata": {
        "id": "bI6g_HxssoXi"
      },
      "source": [
        "### Mean and Median transaction amounts by type"
      ]
    },
    {
      "cell_type": "code",
      "execution_count": 19,
      "metadata": {
        "colab": {
          "base_uri": "https://localhost:8080/"
        },
        "id": "ZwNbtOIBU_zB",
        "outputId": "e1b537a5-456b-44dc-ae99-ee566d3932c0"
      },
      "outputs": [
        {
          "output_type": "stream",
          "name": "stdout",
          "text": [
            "Mean transaction amounts by type:\n",
            "type\n",
            "CASH_OUT    176275.224862\n",
            "TRANSFER    910647.009645\n",
            "Name: amount, dtype: float64\n",
            "\n",
            "Median transaction amounts by type:\n",
            "type\n",
            "CASH_OUT    147073.795\n",
            "TRANSFER    486308.390\n",
            "Name: amount, dtype: float64\n"
          ]
        }
      ],
      "source": [
        "# Group the data by transaction type and calculate the mean transaction amount\n",
        "mean_amounts = dataset.groupby('type')['amount'].mean()\n",
        "\n",
        "# Group the data by transaction type and calculate the median transaction amount\n",
        "median_amounts = dataset.groupby('type')['amount'].median()\n",
        "\n",
        "# Print the results\n",
        "print('Mean transaction amounts by type:')\n",
        "print(mean_amounts)\n",
        "\n",
        "print('\\nMedian transaction amounts by type:')\n",
        "print(median_amounts)"
      ]
    },
    {
      "cell_type": "markdown",
      "metadata": {
        "id": "RphCk-OUecNr"
      },
      "source": [
        "From the mean and median transaction amounts by type, we can observe that the average transaction amount for transfers is much higher than cash-out transactions. This could indicate that fraudulent activities might also involve larger transaction amounts. Additionally, we can observe that the median transaction amount for cash-out transactions is lower than transfer transactions."
      ]
    },
    {
      "cell_type": "markdown",
      "metadata": {
        "id": "t9gkbZFChQx1"
      },
      "source": [
        "\n",
        "### To analyze the time step variable, we first counted the number of transactions in each time step for both fraud and non-fraud categories. This helped us identify any potential patterns or trends in the data. As per the dataset description, each time step corresponds to an hour. "
      ]
    },
    {
      "cell_type": "code",
      "execution_count": 20,
      "metadata": {
        "colab": {
          "base_uri": "https://localhost:8080/",
          "height": 458
        },
        "id": "TyWg9zglgk9K",
        "outputId": "73b53a6d-70ca-4cf8-a65e-2a1ff0f76287"
      },
      "outputs": [
        {
          "output_type": "display_data",
          "data": {
            "text/plain": [
              "<Figure size 640x480 with 1 Axes>"
            ],
            "image/png": "[encoded data removed]"
          },
          "metadata": {}
        }
      ],
      "source": [
        "fraud_counts = dataset[dataset['isFraud'] == 1].groupby('step')['isFraud'].count()\n",
        "non_fraud_counts = dataset[dataset['isFraud'] == 0].groupby('step')['isFraud'].count()\n",
        "\n",
        "plt.plot(fraud_counts.index, fraud_counts.values, label='Fraud')\n",
        "plt.plot(non_fraud_counts.index, non_fraud_counts.values, label='Non-Fraud')\n",
        "plt.xlabel('Time Step')\n",
        "plt.ylabel('Number of Transactions')\n",
        "plt.legend()\n",
        "plt.show()\n"
      ]
    },
    {
      "cell_type": "markdown",
      "metadata": {
        "id": "arUk4RwUhAd-"
      },
      "source": [
        "\n",
        "The frequency distribution of fraudulent transactions is more even across the time steps, while non-fraudulent transactions are more likely to occur at specific times."
      ]
    },
    {
      "cell_type": "markdown",
      "metadata": {
        "id": "UQCXvTx8jaU5"
      },
      "source": [
        "### The name (or ID) of the originator and destination are not needed for classification. So,\n",
        "we remove them.\n"
      ]
    },
    {
      "cell_type": "code",
      "execution_count": 21,
      "metadata": {
        "id": "rYQLUOTwU_np"
      },
      "outputs": [],
      "source": [
        "dataset = dataset.drop(['nameOrig', 'nameDest'], axis=1)"
      ]
    },
    {
      "cell_type": "markdown",
      "metadata": {
        "id": "i_h6LlJPl6f3"
      },
      "source": [
        "## One Hot Encoding"
      ]
    },
    {
      "cell_type": "code",
      "execution_count": 22,
      "metadata": {
        "id": "V32cXcULU_kn"
      },
      "outputs": [],
      "source": [
        "# Creating dummy variables through one hot encoding for 'type' column\n",
        "dataset = pd.get_dummies(dataset, columns=['type'], prefix=['type'])\n"
      ]
    },
    {
      "cell_type": "code",
      "execution_count": 23,
      "metadata": {
        "colab": {
          "base_uri": "https://localhost:8080/"
        },
        "id": "BkI9QJV_pt14",
        "outputId": "1e408605-c2c3-48b0-efe1-10e4967e31ab"
      },
      "outputs": [
        {
          "output_type": "execute_result",
          "data": {
            "text/plain": [
              "Index(['step', 'amount', 'oldbalanceOrg', 'newbalanceOrig', 'oldbalanceDest',\n",
              "       'newbalanceDest', 'isFraud', 'isFlaggedFraud', 'type_CASH_OUT',\n",
              "       'type_TRANSFER'],\n",
              "      dtype='object')"
            ]
          },
          "metadata": {},
          "execution_count": 23
        }
      ],
      "source": [
        "dataset.columns"
      ]
    },
    {
      "cell_type": "markdown",
      "metadata": {
        "id": "LtTh0EdMmVP-"
      },
      "source": [
        "## Splitting data"
      ]
    },
    {
      "cell_type": "code",
      "execution_count": 24,
      "metadata": {
        "id": "tWXV1IhhmULv"
      },
      "outputs": [],
      "source": [
        "# independent variable (estimator)\n",
        "X = dataset.drop(\"isFraud\", axis = 1)\n",
        "\n",
        "# dependent variable (label)\n",
        "y = dataset[\"isFraud\"]"
      ]
    },
    {
      "cell_type": "code",
      "execution_count": 25,
      "metadata": {
        "id": "C3Vmj9xhmfO8"
      },
      "outputs": [],
      "source": [
        "# Split your data to train and test\n",
        "X_train, X_test, y_train, y_test = train_test_split(X, y, test_size = 0.3,shuffle=True, stratify=y, random_state = 42)"
      ]
    },
    {
      "cell_type": "markdown",
      "metadata": {
        "id": "s6utV-bjmh4j"
      },
      "source": [
        "## Data Scaling"
      ]
    },
    {
      "cell_type": "code",
      "execution_count": 26,
      "metadata": {
        "id": "dTo6N8QMmkoP"
      },
      "outputs": [],
      "source": [
        "# Scaling your data\n",
        "#  initializes the scaler object\n",
        "scaler = StandardScaler()\n",
        "# fits the scaler object to the training data and returns the scaled training data.\n",
        "X_train_scale = scaler.fit_transform(X_train)\n",
        "X_test_scale = scaler.transform(X_test)\n",
        "\n",
        "X_train = pd.DataFrame(X_train_scale, columns = X_train.columns)\n",
        "X_test = pd.DataFrame(X_test_scale, columns = X_test.columns)"
      ]
    },
    {
      "cell_type": "markdown",
      "metadata": {
        "id": "AuAqRdANmnOI"
      },
      "source": [
        "\n",
        "The method used to scale the data is \"Standard Scaling\" and it's used to standardize the data by subtracting the mean and dividing by the standard deviation so that the transformed data has a mean of 0 and a standard deviation of 1. This is important when working with algorithms that assume normally distributed data or algorithms that are sensitive to the scale of the input features. Scaling the data can also help prevent over-dominance of any single feature in the model and can improve the overall performance of many machine learning algorithms."
      ]
    },
    {
      "cell_type": "markdown",
      "metadata": {
        "id": "YE3iHCCrmLRd"
      },
      "source": [
        "## Imbalanced Data"
      ]
    },
    {
      "cell_type": "code",
      "execution_count": 27,
      "metadata": {
        "id": "pEKOtjs6U_hJ"
      },
      "outputs": [],
      "source": [
        "# initializing smote technique\n",
        "smote = SMOTE()"
      ]
    },
    {
      "cell_type": "code",
      "execution_count": 28,
      "metadata": {
        "id": "Nh2rLPjBqbzX"
      },
      "outputs": [],
      "source": [
        "y_train = y_train.astype(int)"
      ]
    },
    {
      "cell_type": "code",
      "execution_count": 29,
      "metadata": {
        "colab": {
          "base_uri": "https://localhost:8080/"
        },
        "id": "lVTfANW8qDRi",
        "outputId": "6c2ca7ec-0222-4529-8907-8d48c0b8c956"
      },
      "outputs": [
        {
          "output_type": "stream",
          "name": "stdout",
          "text": [
            "Before SMOTE: Counter({0: 1933537, 1: 5738})\n",
            "After SMOTE: Counter({0: 1933537, 1: 1933537})\n"
          ]
        }
      ],
      "source": [
        "# Convert y_train to a NumPy array\n",
        "y_train_array = np.array(y_train)\n",
        "\n",
        "# Initialize the SMOTE algorithm\n",
        "smote = SMOTE(random_state=42)\n",
        "\n",
        "# Resample the training data using SMOTE\n",
        "X_train_smote, y_train_smote = smote.fit_resample(X_train, y_train_array)\n",
        "\n",
        "# Print the values before and after SMOTE\n",
        "print(\"Before SMOTE:\", Counter(y_train))\n",
        "print(\"After SMOTE:\", Counter(y_train_smote))"
      ]
    },
    {
      "cell_type": "code",
      "execution_count": 30,
      "metadata": {
        "colab": {
          "base_uri": "https://localhost:8080/"
        },
        "id": "CtWSX9xdmsI-",
        "outputId": "f1ef1a71-7d0e-4dfa-8cfe-852bf355f41e"
      },
      "outputs": [
        {
          "output_type": "stream",
          "name": "stdout",
          "text": [
            "Original dataset shape 2770393\n",
            "Resampled dataset shape 3867074\n"
          ]
        }
      ],
      "source": [
        "# Looking for shape of Original dataset shape & Resampled dataset shape\n",
        "print('Original dataset shape', len(dataset))\n",
        "print('Resampled dataset shape', len(y_train_smote))"
      ]
    },
    {
      "cell_type": "code",
      "execution_count": 31,
      "metadata": {
        "colab": {
          "base_uri": "https://localhost:8080/"
        },
        "id": "CWkIdnAwmxVR",
        "outputId": "d237a9c2-0015-4cb7-fc33-e346de418cd0"
      },
      "outputs": [
        {
          "output_type": "execute_result",
          "data": {
            "text/plain": [
              "['step',\n",
              " 'amount',\n",
              " 'oldbalanceOrg',\n",
              " 'newbalanceOrig',\n",
              " 'oldbalanceDest',\n",
              " 'newbalanceDest',\n",
              " 'isFraud',\n",
              " 'isFlaggedFraud',\n",
              " 'type_CASH_OUT',\n",
              " 'type_TRANSFER']"
            ]
          },
          "metadata": {},
          "execution_count": 31
        }
      ],
      "source": [
        "# making variable for column with each and every columns in dataset\n",
        "columns = list(dataset.columns)\n",
        "columns"
      ]
    },
    {
      "cell_type": "code",
      "execution_count": 32,
      "metadata": {
        "id": "Zv3tJ5Dam2WR"
      },
      "outputs": [],
      "source": [
        "# droping orignal columns\n",
        "dataset.drop(['isFraud'],axis=1,inplace=True)"
      ]
    },
    {
      "cell_type": "code",
      "execution_count": 33,
      "metadata": {
        "id": "7E7gOUJlm_7B"
      },
      "outputs": [],
      "source": [
        "#Create a new Dataframe with balanced data\n",
        "balanced_df = pd.DataFrame(X_train_smote, columns=columns)"
      ]
    },
    {
      "cell_type": "code",
      "execution_count": 34,
      "metadata": {
        "id": "lUBt-fQQnB_d"
      },
      "outputs": [],
      "source": [
        "# storing default in y_train_smote \n",
        "balanced_df['isFraud'] = y_train_smote"
      ]
    },
    {
      "cell_type": "code",
      "execution_count": 35,
      "metadata": {
        "colab": {
          "base_uri": "https://localhost:8080/"
        },
        "id": "QAVrIGc6nGKs",
        "outputId": "b1a2101f-6eed-45f3-ab58-95b99a4caf27"
      },
      "outputs": [
        {
          "output_type": "execute_result",
          "data": {
            "text/plain": [
              "(3867074, 10)"
            ]
          },
          "metadata": {},
          "execution_count": 35
        }
      ],
      "source": [
        "#check shape of new daatframe\n",
        "balanced_df.shape"
      ]
    },
    {
      "cell_type": "code",
      "execution_count": 36,
      "metadata": {
        "colab": {
          "base_uri": "https://localhost:8080/",
          "height": 474
        },
        "id": "k_hZphe3nICN",
        "outputId": "779b6f4d-eb8f-497e-e958-8d332799e289"
      },
      "outputs": [
        {
          "output_type": "display_data",
          "data": {
            "text/plain": [
              "<Figure size 640x480 with 1 Axes>"
            ],
            "image/png": "[encoded data removed]"
          },
          "metadata": {}
        }
      ],
      "source": [
        "#plotting balanced data using countplot\n",
        "ax = sns.countplot(x='isFraud', data=balanced_df)\n",
        "ax.set_xticklabels(('Not Fraud', 'Fraud'), rotation=0)\n",
        "plt.show()\n"
      ]
    },
    {
      "cell_type": "markdown",
      "metadata": {
        "id": "aO5RW_LDncVp"
      },
      "source": [
        "The technique used to handle the imbalanced dataset is \"SMOTE\" (Synthetic Minority Over-sampling Technique). It is a popular oversampling technique for handling imbalanced datasets by generating synthetic samples of the minority class.\n",
        "\n",
        "SMOTE works by selecting similar samples in the feature space and creating new samples by interpolating between them. The new samples are added to the original dataset to balance the class distribution."
      ]
    },
    {
      "cell_type": "markdown",
      "metadata": {
        "id": "zHzH5L_QnSpo"
      },
      "source": [
        "### Now Our dataset is balanced"
      ]
    },
    {
      "cell_type": "code",
      "execution_count": 37,
      "metadata": {
        "id": "yb13cbrnnO_f"
      },
      "outputs": [],
      "source": [
        "# independent variable (estimator)\n",
        "X = balanced_df.drop(\"isFraud\", axis = 1)\n",
        "\n",
        "# dependent variable (label)\n",
        "y = balanced_df[\"isFraud\"]"
      ]
    },
    {
      "cell_type": "markdown",
      "metadata": {
        "id": "-7WUDLvmnYPi"
      },
      "source": [
        "## Splitting the data on the basis of Balanced dataset"
      ]
    },
    {
      "cell_type": "code",
      "execution_count": 38,
      "metadata": {
        "id": "VALBhtNhnVeK"
      },
      "outputs": [],
      "source": [
        "# Split your data to train and test\n",
        "X_train, X_test, y_train, y_test = train_test_split(X, y, test_size = 0.3, shuffle=True, stratify=y, random_state = 42)"
      ]
    },
    {
      "cell_type": "markdown",
      "metadata": {
        "id": "F6EwtHEKnwHj"
      },
      "source": [
        "## ML Model Implementation"
      ]
    },
    {
      "cell_type": "code",
      "execution_count": 39,
      "metadata": {
        "id": "pbkNDjUDT2M4"
      },
      "outputs": [],
      "source": [
        "def evaluation_metrics(model, X_train, y_train, X_test, y_test):\n",
        "    # fitting the model\n",
        "    model.fit(X_train, y_train)\n",
        "    'function for evaluation metrics'\n",
        "    \n",
        "    # Predict classes for train and test data\n",
        "    train_class_preds = model.predict(X_train)\n",
        "    test_class_preds = model.predict(X_test)\n",
        "    \n",
        "    # Calculate the evaluation metrics\n",
        "    train_accuracy = accuracy_score(y_train, train_class_preds)\n",
        "    test_accuracy = accuracy_score(y_test, test_class_preds)\n",
        "    train_precision = precision_score(y_train, train_class_preds)\n",
        "    test_precision = precision_score(y_test, test_class_preds)\n",
        "    train_recall = recall_score(y_train, train_class_preds)\n",
        "    test_recall = recall_score(y_test, test_class_preds)\n",
        "    train_f1 = f1_score(y_train, train_class_preds)\n",
        "    test_f1 = f1_score(y_test, test_class_preds)\n",
        "    train_roc_auc = roc_auc_score(y_train, train_class_preds)\n",
        "    test_roc_auc = roc_auc_score(y_test, test_class_preds)\n",
        "    \n",
        "    # Store the evaluation metrics in a dictionary\n",
        "    evaluation_metrics =OrderedDict([\n",
        "    ('Train Accuracy: {:.2f}%'.format(train_accuracy*100), None),\n",
        "    ('Test Accuracy: {:.2f}%'.format(test_accuracy*100), None),\n",
        "    ('Train Precision: {:.2f}%'.format(train_precision*100), None),\n",
        "    ('Test Precision: {:.2f}%'.format(test_precision*100), None),\n",
        "    ('Train Recall: {:.2f}%'.format(train_recall*100), None),\n",
        "    ('Test Recall: {:.2f}%'.format(test_recall*100), None),\n",
        "    ('Train F1 Score: {:.2f}%'.format(train_f1*100), None),\n",
        "    ('Test F1 Score: {:.2f}%'.format(test_f1*100), None),\n",
        "    ('Train ROC-AUC: {:.2f}%'.format(train_roc_auc*100), None),\n",
        "    ('Test ROC-AUC: {:.2f}%'.format(test_roc_auc*100), None)\n",
        "\n",
        "])\n",
        "    \n",
        "    return evaluation_metrics "
      ]
    },
    {
      "cell_type": "markdown",
      "metadata": {
        "id": "5aYpb041tml1"
      },
      "source": [
        "## Logistic Regression "
      ]
    },
    {
      "cell_type": "code",
      "execution_count": 40,
      "metadata": {
        "colab": {
          "base_uri": "https://localhost:8080/"
        },
        "id": "ZLVvFWVztQNz",
        "outputId": "a67201d5-0dce-4d99-f921-662888df53e0"
      },
      "outputs": [
        {
          "output_type": "execute_result",
          "data": {
            "text/plain": [
              "OrderedDict([('Train Accuracy: 94.95%', None),\n",
              "             ('Test Accuracy: 94.95%', None),\n",
              "             ('Train Precision: 94.43%', None),\n",
              "             ('Test Precision: 94.46%', None),\n",
              "             ('Train Recall: 95.54%', None),\n",
              "             ('Test Recall: 95.49%', None),\n",
              "             ('Train F1 Score: 94.98%', None),\n",
              "             ('Test F1 Score: 94.97%', None),\n",
              "             ('Train ROC-AUC: 94.95%', None),\n",
              "             ('Test ROC-AUC: 94.95%', None)])"
            ]
          },
          "metadata": {},
          "execution_count": 40
        }
      ],
      "source": [
        "lr=LogisticRegression()\n",
        "evaluation_metrics(lr, X_train, y_train, X_test, y_test)"
      ]
    },
    {
      "cell_type": "code",
      "source": [
        "from sklearn.model_selection import RandomizedSearchCV\n",
        "\n",
        "# Define hyperparameter space for logistic regression\n",
        "param_dist = {\n",
        "    'C': [0.001, 0.01, 0.1, 1, 10, 100, 1000],\n",
        "    'penalty': ['l1', 'l2', 'elasticnet', 'none'],\n",
        "    'solver': ['newton-cg', 'lbfgs', 'liblinear', 'sag', 'saga']\n",
        "    }\n",
        "\n",
        "# Initialize RandomizedSearchCV with 5-fold cross validation\n",
        "random_search = RandomizedSearchCV(estimator=lr, param_distributions=param_dist, cv=5, scoring='recall')\n",
        "\n",
        "# Fit RandomizedSearchCV on training data\n",
        "random_search.fit(X_train, y_train)\n",
        "\n",
        "# Print best hyperparameters\n",
        "print(\"Best Hyperparameters:\", random_search.best_params_)\n"
      ],
      "metadata": {
        "id": "iuvgTSFzj3KH"
      },
      "execution_count": null,
      "outputs": []
    },
    {
      "cell_type": "markdown",
      "source": [
        "## Random Forest Classifier"
      ],
      "metadata": {
        "id": "Y-FrbdTSU4Wn"
      }
    },
    {
      "cell_type": "code",
      "source": [
        "#creating Instance of Random Forest\n",
        "rf_clf= RandomForestClassifier()"
      ],
      "metadata": {
        "id": "v17cdia1U9Ar"
      },
      "execution_count": 44,
      "outputs": []
    },
    {
      "cell_type": "code",
      "source": [
        "#calling function evaluation_metrics for random forest\n",
        "evaluation_metrics(rf_clf, X_train, y_train, X_test, y_test)"
      ],
      "metadata": {
        "colab": {
          "base_uri": "https://localhost:8080/"
        },
        "id": "tYN1-RywU_NR",
        "outputId": "6d81be4d-492b-4267-a9fc-166270e75362"
      },
      "execution_count": 45,
      "outputs": [
        {
          "output_type": "execute_result",
          "data": {
            "text/plain": [
              "OrderedDict([('Train Accuracy: 100.00%', None),\n",
              "             ('Test Accuracy: 99.90%', None),\n",
              "             ('Train Precision: 100.00%', None),\n",
              "             ('Test Precision: 99.83%', None),\n",
              "             ('Train Recall: 100.00%', None),\n",
              "             ('Test Recall: 99.97%', None),\n",
              "             ('Train F1 Score: 100.00%', None),\n",
              "             ('Test F1 Score: 99.90%', None),\n",
              "             ('Train ROC-AUC: 100.00%', None),\n",
              "             ('Test ROC-AUC: 99.90%', None)])"
            ]
          },
          "metadata": {},
          "execution_count": 45
        }
      ]
    },
    {
      "cell_type": "code",
      "source": [
        "# Creating parameter grid  \n",
        "param_grid = {\n",
        "    'max_depth': [10,20,30],\n",
        "    'min_samples_leaf': [3, 4, 5],\n",
        "    'min_samples_split': [5, 8, 10],\n",
        "    'n_estimators': [100, 150, 200]\n",
        "}"
      ],
      "metadata": {
        "id": "K-wWUoXQVBxc"
      },
      "execution_count": 46,
      "outputs": []
    },
    {
      "cell_type": "code",
      "source": [
        "# Instantiate grid search model\n",
        "random_search = RandomizedSearchCV(estimator = rf_clf,param_distributions= param_grid,  scoring = 'accuracy',  \n",
        "                                   cv = 3, n_jobs = -1, verbose = 1)"
      ],
      "metadata": {
        "id": "_8W4jrFUVEFX"
      },
      "execution_count": 47,
      "outputs": []
    },
    {
      "cell_type": "code",
      "source": [
        "# Fit grid search to the data\n",
        "random_search.fit(X_train, y_train)"
      ],
      "metadata": {
        "id": "UEMYfn0_powp"
      },
      "execution_count": null,
      "outputs": []
    },
    {
      "cell_type": "code",
      "source": [
        "#get best parameters\n",
        "random_search.best_params_"
      ],
      "metadata": {
        "id": "eMDCRXruprvt"
      },
      "execution_count": null,
      "outputs": []
    },
    {
      "cell_type": "code",
      "source": [
        "#get best score\n",
        "random_search.best_score_"
      ],
      "metadata": {
        "id": "Ucev0DQlpt69"
      },
      "execution_count": null,
      "outputs": []
    },
    {
      "cell_type": "code",
      "source": [
        "# evaluation_metrics after hyperparameter tunning\n",
        "evaluation_metrics(random_search, X_train, y_train, X_test, y_test)"
      ],
      "metadata": {
        "id": "aOC3lYQVpwNc"
      },
      "execution_count": null,
      "outputs": []
    },
    {
      "cell_type": "markdown",
      "source": [
        "## XG BOOST"
      ],
      "metadata": {
        "id": "rDO8bTHTVQvL"
      }
    },
    {
      "cell_type": "code",
      "source": [
        "#creating Instance of XGBClassifier\n",
        "XG= XGBClassifier(random_state=123)\n",
        "\n",
        "evaluation_metrics(XG, X_train, y_train, X_test, y_test)"
      ],
      "metadata": {
        "colab": {
          "base_uri": "https://localhost:8080/"
        },
        "id": "3mx6SnoSVQI2",
        "outputId": "7641eee5-e396-46b4-c286-3458a143f2f6"
      },
      "execution_count": 52,
      "outputs": [
        {
          "output_type": "execute_result",
          "data": {
            "text/plain": [
              "OrderedDict([('Train Accuracy: 99.84%', None),\n",
              "             ('Test Accuracy: 99.82%', None),\n",
              "             ('Train Precision: 99.74%', None),\n",
              "             ('Test Precision: 99.71%', None),\n",
              "             ('Train Recall: 99.94%', None),\n",
              "             ('Test Recall: 99.93%', None),\n",
              "             ('Train F1 Score: 99.84%', None),\n",
              "             ('Test F1 Score: 99.82%', None),\n",
              "             ('Train ROC-AUC: 99.84%', None),\n",
              "             ('Test ROC-AUC: 99.82%', None)])"
            ]
          },
          "metadata": {},
          "execution_count": 52
        }
      ]
    },
    {
      "cell_type": "code",
      "source": [
        "# Number of trees\n",
        "n_estimators = [50,80,100]\n",
        "\n",
        "# Maximum depth of trees\n",
        "max_depth = [4,6,8]\n",
        "\n",
        "# Minimum number of samples required to split a node\n",
        "min_samples_split = [50,100,150]\n",
        "\n",
        "# Minimum number of samples required at each leaf node\n",
        "min_samples_leaf = [40,50]\n",
        "\n",
        "# HYperparameter Grid\n",
        "param_dict = {'n_estimators' : n_estimators,\n",
        "              'max_depth' : max_depth,\n",
        "              'min_samples_split' : min_samples_split,\n",
        "              'min_samples_leaf' : min_samples_leaf}"
      ],
      "metadata": {
        "id": "Aasbs2-HVXV4"
      },
      "execution_count": 53,
      "outputs": []
    },
    {
      "cell_type": "code",
      "source": [
        "# Instantiate grid search model\n",
        "XGboost = RandomizedSearchCV(estimator = XG,param_distributions= param_dict,  scoring = 'accuracy',  \n",
        "                                   cv = 3, n_jobs = -1, verbose = 1)"
      ],
      "metadata": {
        "id": "p-xRddQhVaBP"
      },
      "execution_count": 54,
      "outputs": []
    },
    {
      "cell_type": "code",
      "source": [
        "# Calling function we made evaluation_metrics for XGboost \n",
        "evaluation_metrics(XGboost, X_train, y_train, X_test, y_test)"
      ],
      "metadata": {
        "id": "KEd4M9SHr0YQ"
      },
      "execution_count": null,
      "outputs": []
    },
    {
      "cell_type": "markdown",
      "source": [
        "## Conclusion"
      ],
      "metadata": {
        "id": "Zi4ZSG4Mdhxu"
      }
    },
    {
      "cell_type": "markdown",
      "source": [
        "In conclusion, we successfully developed a framework for detecting fraudulent\n",
        "transactions in financial data. This framework will help understand the nuances of fraud detection such as the creation of derived variables that may help separate the classes, addressing class imbalance and choosing the right machine learning algorithm.\n",
        "We experimented with two machine learning algorithms – Logistic Regression,\n",
        "Random Forest and XGBoost. The Random Forest algorithm gave far better results than Logistic Regression and XGBoost indicating tree-based algorithms work well for transactions data with welldifferentiated classes. This also emphasizes the usefulness of conducting rigorous exploratory analysis to understand the data in detail before developing machine learning models. Through this exploratory analysis, we derived a few features that differentiated the classes better than the raw data."
      ],
      "metadata": {
        "id": "MuM7xmwjdkFt"
      }
    }
  ],
  "metadata": {
    "colab": {
      "provenance": [],
      "mount_file_id": "1IBnLFDfwoPyei0l8ukjmtzBzMThtByYi",
      "authorship_tag": "ABX9TyOeKV4BSjYpVi1SzPH4e8LG",
      "include_colab_link": true
    },
    "kernelspec": {
      "display_name": "Python 3",
      "name": "python3"
    },
    "language_info": {
      "name": "python"
    }
  },
  "nbformat": 4,
  "nbformat_minor": 0
}